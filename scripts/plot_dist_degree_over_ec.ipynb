{
 "cells": [
  {
   "cell_type": "markdown",
   "metadata": {
    "collapsed": true,
    "pycharm": {
     "name": "#%% md\n"
    }
   },
   "source": [
    "## Plots for Distribution of Degree over EC classes  "
   ]
  },
  {
   "cell_type": "code",
   "execution_count": 4,
   "outputs": [],
   "source": [
    "import numpy as np\n",
    "import seaborn as sns\n",
    "import json\n",
    "from matplotlib import pyplot as plt\n",
    "from palettable.mycarta import Cube1_6\n",
    "from palettable.mycarta import Cube1_7\n",
    "sns.set() # S\n",
    "sns.set_context(\"paper\")\n",
    "sns.set_style(style='whitegrid')\n"
   ],
   "metadata": {
    "collapsed": false,
    "pycharm": {
     "name": "#%%\n",
     "is_executing": false
    }
   }
  },
  {
   "cell_type": "code",
   "execution_count": 6,
   "outputs": [],
   "source": [
    "def load_json(path):\n",
    "    ''' \n",
    "    Loads jsons given a path. \n",
    "    '''\n",
    "    with open(path,'r') as f:\n",
    "        data = json.load(f)\n",
    "    return data\n",
    "\n",
    "\n",
    "\n",
    "class Domain:\n",
    "\n",
    "    def __init__(self,name):\n",
    "\n",
    "        self.name = name\n",
    "        \n",
    "        self.path_degree = \"../results/topology/degree/degree_distribution_over_EC_%s.json\"%(self.name)\n",
    "        \n",
    "        self.path_betweenness = \"../results/topology/betweenness/betweenness_distribution_over_EC_%s.json\"%(self.name)\n",
    "\n",
    "        cb = {'black':[0,0,0], 'orange':[230/255,159/255,0], 'skyblue':[86/255,180/255,233/255],\n",
    "        'bluishgreen':[0,158/255,115/255], 'yellow':[240/255,228/255,66/255],'blue':[0,114/255,178/255],\n",
    "        'vermillion':[213/255,94/255,0],'reddishpurple':[204/255,121/255,167/255], 'brown':[109, 22, 3]}\n",
    "\n",
    "        #'brown': HEX #6D1603 RGB 109, 22, 3  HSL 11, 97%, 22%\n",
    "        color = {'Metagenome': cb['bluishgreen'],\n",
    "            'Bacteria': cb['blue'],\n",
    "            'Archaea': cb['vermillion'],\n",
    "            'Eukaryota': cb['orange'],\n",
    "            'Pantaxa': cb['reddishpurple'],    \n",
    "            'LUCA': cb['black'],\n",
    "            'Biosphere': cb['skyblue']}\n",
    "\n",
    "        self.color = color[self.name]\n",
    "    \n",
    "\n",
    "cmap = Cube1_6.mpl_colors\n",
    "\n",
    "ec_class_name = {'1':'oxidoreductases',\n",
    "     '2':'transferases',\n",
    "    '3': 'hydrolases',\n",
    "    '4': 'lyases',\n",
    "    '5': 'isomerases',\n",
    "    '6': 'ligases'}\n",
    "\n",
    "color = {'oxidoreductases': cmap[0],\n",
    "        'transferases': cmap[1],\n",
    "        'hydrolases': cmap[2],\n",
    "        'lyases': cmap[3],\n",
    "        'isomerases': cmap[4],\n",
    "        'ligases': cmap[5]}\n",
    "\n",
    "\n",
    "ncmap = Cube1_7.mpl_colors\n",
    "\n",
    "new_ec_class_name = {'1':'oxidoreductases',\n",
    "     '2':'transferases',\n",
    "    '3': 'hydrolases + lyases',\n",
    "    '4': 'isomerases',\n",
    "    '5': 'ligases'}\n",
    "\n",
    "ncolor = {'oxidoreductases': ncmap[0],\n",
    "        'transferases': ncmap[1],\n",
    "        'hydrolases + lyases': ncmap[3],\n",
    "        'isomerases': ncmap[5],\n",
    "        'ligases': ncmap[6]}"
   ],
   "metadata": {
    "collapsed": false,
    "pycharm": {
     "name": "#%%\n",
     "is_executing": false
    }
   }
  },
  {
   "cell_type": "code",
   "execution_count": 7,
   "outputs": [],
   "source": [
    "archaea = Domain('Archaea')\n",
    "bacteria = Domain('Bacteria')\n",
    "eukaryota = Domain('Eukaryota')\n",
    "metagenome = Domain('Metagenome')\n",
    "luca = Domain(\"LUCA\")\n",
    "biosphere = Domain(\"Biosphere\")\n",
    "pantaxa = Domain(\"Pantaxa\")\n"
   ],
   "metadata": {
    "collapsed": false,
    "pycharm": {
     "name": "#%%\n",
     "is_executing": false
    }
   }
  },
  {
   "cell_type": "markdown",
   "source": [
    "### load degree"
   ],
   "metadata": {
    "collapsed": false
   }
  },
  {
   "cell_type": "code",
   "execution_count": 8,
   "outputs": [],
   "source": [
    "list_domain = [archaea, bacteria, eukaryota, pantaxa, metagenome] #, biosphere]\n",
    "\n",
    "data = dict()\n",
    "for domain in list_domain:\n",
    "    data[domain] = load_json(domain.path_degree)"
   ],
   "metadata": {
    "collapsed": false,
    "pycharm": {
     "name": "#%%\n",
     "is_executing": false
    }
   }
  },
  {
   "cell_type": "markdown",
   "source": [
    "### plots for degree (logX with same bin size)"
   ],
   "metadata": {
    "collapsed": false
   }
  },
  {
   "cell_type": "code",
   "execution_count": 9,
   "outputs": [],
   "source": [
    "# plt.figure(figsize=(2.1 * len(list_domain), 2 * len(ec_class_name))) \n",
    "# j = 1\n",
    "# for ec_index in range(1, len(ec_class_name) + 1):#for domain in list_domain:\n",
    "#     i = 0\n",
    "#     for domain_index in range(len(list_domain)): #for ec_index in range(1, len(ec_class_name) + 1):\n",
    "# \n",
    "#         print(domain_index + j)\n",
    "# \n",
    "#         domain = list_domain[domain_index]\n",
    "#         plt.subplot(len(ec_class_name), len(list_domain), domain_index + j)\n",
    "# \n",
    "#         ec_class = str(ec_index) \n",
    "#         x = data[domain][ec_class]\n",
    "#         x = [i for i in x if i > 0]\n",
    "#         lx = np.log10(x)   \n",
    "# \n",
    "#         plt.hist(lx, histtype='step', bins=200, log=True, fill=True, alpha=0.7, label=ec_class_name[ec_class], color=color[ec_class_name[ec_class]])\n",
    "#         ax = plt.gca()\n",
    "#         ax.tick_params(labelsize=12)\n",
    "#         ax.set_xlim([0,3.2])\n",
    "#         ax.set_ylim([0,600000])\n",
    "#         plt.xticks([1, 2, 3], ['$10^{1}$', '$10^{2}$', '$10^{3}$'])\n",
    "#         plt.yticks([10, 1000, 100000], ['$10^1$', '$10^3$', '$10^5$'])\n",
    "# \n",
    "# \n",
    "#         if domain == archaea:\n",
    "#             plt.ylabel(\"%s\\n\"%ec_class_name[ec_class], fontsize= 18)\n",
    "#         if ec_index == 1:\n",
    "#             plt.title(\"%s\\n\"%domain.name, fontsize= 18)\n",
    "#         if domain == eukaryota and ec_index == 6:\n",
    "#             plt.xlabel(\"Degree\", fontsize=22)\n",
    "# \n",
    "#         i += 1\n",
    "#     j += i    \n",
    "# \n",
    "# plt.tight_layout()\n",
    "# plt.savefig(\"../plots/PNAS/degree_distribution.png\", dpi = 300)"
   ],
   "metadata": {
    "collapsed": false,
    "pycharm": {
     "name": "#%%\n",
     "is_executing": false
    }
   }
  },
  {
   "cell_type": "markdown",
   "source": [
    "### plots for degree (linearx)"
   ],
   "metadata": {
    "collapsed": false
   }
  },
  {
   "cell_type": "code",
   "execution_count": 10,
   "outputs": [],
   "source": [
    "# plt.figure(figsize=(2.1 * len(list_domain), 2 * len(ec_class_name))) #sharex=True, sharey=True)\n",
    "# j = 1\n",
    "# for ec_index in range(1, len(ec_class_name) + 1):#for domain in list_domain:\n",
    "#     i = 0\n",
    "#     for domain_index in range(len(list_domain)): #for ec_index in range(1, len(ec_class_name) + 1):\n",
    "# \n",
    "#         print(domain_index + j)\n",
    "# \n",
    "#         domain = list_domain[domain_index]\n",
    "#         plt.subplot(len(ec_class_name), len(list_domain), domain_index + j)\n",
    "#     \n",
    "#         ec_class = str(ec_index) \n",
    "#         x = data[domain][ec_class]\n",
    "# \n",
    "#         plt.hist(x, histtype='step', bins=200, log=True, fill=True, alpha=0.7, label=ec_class_name[ec_class], color=color[ec_class_name[ec_class]])\n",
    "#         ax = plt.gca()\n",
    "#         ax.tick_params(labelsize=12)\n",
    "#         ax.set_xlim([0,1450])\n",
    "#         ax.set_ylim([0,600000])\n",
    "#         # plt.xticks([1, 2, 3], ['$10^{1}$', '$10^{2}$', '$10^{3}$'])\n",
    "#         # plt.yticks([10, 1000, 100000], ['$10^1$', '$10^3$', '$10^5$'])\n",
    "#         \n",
    "#         if domain == archaea:\n",
    "#             plt.ylabel(\"%s\\n\"%ec_class_name[ec_class], fontsize= 18)\n",
    "#         if ec_index == 1:\n",
    "#             plt.title(\"%s\\n\"%domain.name, fontsize= 18)\n",
    "#         if domain == eukaryota and ec_index == 6:\n",
    "#             plt.xlabel(\"Degree\", fontsize=22)\n",
    "#             \n",
    "#         i += 1\n",
    "#     j += i    \n",
    "# \n",
    "# plt.tight_layout()\n",
    "# plt.savefig(\"../plots/PNAS/degree_distribution-linearx.png\", dpi = 300)\n"
   ],
   "metadata": {
    "collapsed": false,
    "pycharm": {
     "name": "#%%\n",
     "is_executing": false
    }
   }
  },
  {
   "cell_type": "markdown",
   "source": [
    "### plots for degree (logx)"
   ],
   "metadata": {
    "collapsed": false
   }
  },
  {
   "cell_type": "code",
   "execution_count": 11,
   "outputs": [],
   "source": [
    "# plt.figure(figsize=(2.1 * len(list_domain), 2 * len(ec_class_name))) #sharex=True, sharey=True)\n",
    "# j = 1\n",
    "# for ec_index in range(1, len(ec_class_name) + 1):#for domain in list_domain:\n",
    "#     i = 0\n",
    "#     for domain_index in range(len(list_domain)): #for ec_index in range(1, len(ec_class_name) + 1):\n",
    "# \n",
    "#         print(domain_index + j)\n",
    "# \n",
    "#         domain = list_domain[domain_index]\n",
    "#         plt.subplot(len(ec_class_name), len(list_domain), domain_index + j)\n",
    "#     \n",
    "#         ec_class = str(ec_index) \n",
    "#         x = data[domain][ec_class]\n",
    "# \n",
    "#         plt.hist(x, histtype='step', bins=200, log=True, fill=True, alpha=0.7, label=ec_class_name[ec_class], color=color[ec_class_name[ec_class]])\n",
    "#         ax = plt.gca()\n",
    "#         ax.tick_params(labelsize=12)\n",
    "#         #ax.set_xlim([0,1450])\n",
    "#         #ax.set_ylim([0,600000])\n",
    "#         plt.xscale('log')\n",
    "#         ax.set_ylim([0,600000])\n",
    "#         ax.set_xlim([0,1450])\n",
    "#         plt.xticks([10, 100, 1000], ['$10^{1}$', '$10^{2}$', '$10^{3}$'])\n",
    "#         plt.yticks([10, 1000, 100000], ['$10^1$', '$10^3$', '$10^5$'])\n",
    "#         \n",
    "#         \n",
    "#         if domain == archaea:\n",
    "#             plt.ylabel(\"%s\\n\"%ec_class_name[ec_class], fontsize= 18)\n",
    "#         if ec_index == 1:\n",
    "#             plt.title(\"%s\\n\"%domain.name, fontsize= 18)\n",
    "#         if domain == eukaryota and ec_index == 6:\n",
    "#             plt.xlabel(\"Degree\", fontsize=22)\n",
    "#             \n",
    "#         i += 1\n",
    "#     j += i    \n",
    "# \n",
    "# plt.tight_layout()\n",
    "# plt.savefig(\"../plots/PNAS/degree_distribution-logx.png\", dpi = 300)\n",
    "\n"
   ],
   "metadata": {
    "collapsed": false,
    "pycharm": {
     "name": "#%%\n",
     "is_executing": false
    }
   }
  },
  {
   "cell_type": "markdown",
   "source": [
    "## Combine hydrolases and lysases\n"
   ],
   "metadata": {
    "collapsed": false,
    "pycharm": {
     "name": "#%% md\n"
    }
   }
  },
  {
   "cell_type": "markdown",
   "source": [
    "### plot degree for combined HL"
   ],
   "metadata": {
    "collapsed": false
   }
  },
  {
   "cell_type": "code",
   "execution_count": 20,
   "outputs": [
    {
     "name": "stdout",
     "text": [
      "1\n",
      "oxidoreductases\n",
      "2\n",
      "oxidoreductases\n",
      "3\n",
      "oxidoreductases\n",
      "4\n",
      "oxidoreductases\n",
      "5\n",
      "oxidoreductases\n",
      "6\n",
      "transferases\n",
      "7\n",
      "transferases\n",
      "8\n",
      "transferases\n",
      "9\n",
      "transferases\n",
      "10\n",
      "transferases\n",
      "11\n",
      "hydrolases + lyases\n",
      "12\n",
      "hydrolases + lyases\n",
      "13\n",
      "hydrolases + lyases\n",
      "14\n",
      "hydrolases + lyases\n",
      "15\n",
      "hydrolases + lyases\n",
      "16\n",
      "17\n",
      "18\n",
      "19\n",
      "20\n",
      "16\n",
      "isomerases\n",
      "17\n",
      "isomerases\n",
      "18\n",
      "isomerases\n",
      "19\n",
      "isomerases\n",
      "20\n",
      "isomerases\n",
      "21\n",
      "ligases\n",
      "22\n",
      "ligases\n",
      "23\n",
      "ligases\n",
      "24\n",
      "ligases\n",
      "25\n",
      "ligases\n"
     ],
     "output_type": "stream"
    },
    {
     "name": "stderr",
     "text": [
      "<ipython-input-20-3f33cbf9a365>:33: UserWarning: Attempted to set non-positive bottom ylim on a log-scaled axis.\n",
      "Invalid limit will be ignored.\n",
      "  ax.set_ylim([0,1000000])\n",
      "<ipython-input-20-3f33cbf9a365>:33: UserWarning: Attempted to set non-positive bottom ylim on a log-scaled axis.\n",
      "Invalid limit will be ignored.\n",
      "  ax.set_ylim([0,1000000])\n",
      "<ipython-input-20-3f33cbf9a365>:33: UserWarning: Attempted to set non-positive bottom ylim on a log-scaled axis.\n",
      "Invalid limit will be ignored.\n",
      "  ax.set_ylim([0,1000000])\n",
      "<ipython-input-20-3f33cbf9a365>:33: UserWarning: Attempted to set non-positive bottom ylim on a log-scaled axis.\n",
      "Invalid limit will be ignored.\n",
      "  ax.set_ylim([0,1000000])\n",
      "<ipython-input-20-3f33cbf9a365>:33: UserWarning: Attempted to set non-positive bottom ylim on a log-scaled axis.\n",
      "Invalid limit will be ignored.\n",
      "  ax.set_ylim([0,1000000])\n",
      "<ipython-input-20-3f33cbf9a365>:33: UserWarning: Attempted to set non-positive bottom ylim on a log-scaled axis.\n",
      "Invalid limit will be ignored.\n",
      "  ax.set_ylim([0,1000000])\n",
      "<ipython-input-20-3f33cbf9a365>:33: UserWarning: Attempted to set non-positive bottom ylim on a log-scaled axis.\n",
      "Invalid limit will be ignored.\n",
      "  ax.set_ylim([0,1000000])\n",
      "<ipython-input-20-3f33cbf9a365>:33: UserWarning: Attempted to set non-positive bottom ylim on a log-scaled axis.\n",
      "Invalid limit will be ignored.\n",
      "  ax.set_ylim([0,1000000])\n",
      "<ipython-input-20-3f33cbf9a365>:33: UserWarning: Attempted to set non-positive bottom ylim on a log-scaled axis.\n",
      "Invalid limit will be ignored.\n",
      "  ax.set_ylim([0,1000000])\n",
      "<ipython-input-20-3f33cbf9a365>:33: UserWarning: Attempted to set non-positive bottom ylim on a log-scaled axis.\n",
      "Invalid limit will be ignored.\n",
      "  ax.set_ylim([0,1000000])\n",
      "<ipython-input-20-3f33cbf9a365>:33: UserWarning: Attempted to set non-positive bottom ylim on a log-scaled axis.\n",
      "Invalid limit will be ignored.\n",
      "  ax.set_ylim([0,1000000])\n",
      "<ipython-input-20-3f33cbf9a365>:33: UserWarning: Attempted to set non-positive bottom ylim on a log-scaled axis.\n",
      "Invalid limit will be ignored.\n",
      "  ax.set_ylim([0,1000000])\n",
      "<ipython-input-20-3f33cbf9a365>:33: UserWarning: Attempted to set non-positive bottom ylim on a log-scaled axis.\n",
      "Invalid limit will be ignored.\n",
      "  ax.set_ylim([0,1000000])\n",
      "<ipython-input-20-3f33cbf9a365>:33: UserWarning: Attempted to set non-positive bottom ylim on a log-scaled axis.\n",
      "Invalid limit will be ignored.\n",
      "  ax.set_ylim([0,1000000])\n",
      "<ipython-input-20-3f33cbf9a365>:33: UserWarning: Attempted to set non-positive bottom ylim on a log-scaled axis.\n",
      "Invalid limit will be ignored.\n",
      "  ax.set_ylim([0,1000000])\n",
      "<ipython-input-20-3f33cbf9a365>:33: UserWarning: Attempted to set non-positive bottom ylim on a log-scaled axis.\n",
      "Invalid limit will be ignored.\n",
      "  ax.set_ylim([0,1000000])\n",
      "<ipython-input-20-3f33cbf9a365>:33: UserWarning: Attempted to set non-positive bottom ylim on a log-scaled axis.\n",
      "Invalid limit will be ignored.\n",
      "  ax.set_ylim([0,1000000])\n",
      "<ipython-input-20-3f33cbf9a365>:33: UserWarning: Attempted to set non-positive bottom ylim on a log-scaled axis.\n",
      "Invalid limit will be ignored.\n",
      "  ax.set_ylim([0,1000000])\n",
      "<ipython-input-20-3f33cbf9a365>:33: UserWarning: Attempted to set non-positive bottom ylim on a log-scaled axis.\n",
      "Invalid limit will be ignored.\n",
      "  ax.set_ylim([0,1000000])\n",
      "<ipython-input-20-3f33cbf9a365>:33: UserWarning: Attempted to set non-positive bottom ylim on a log-scaled axis.\n",
      "Invalid limit will be ignored.\n",
      "  ax.set_ylim([0,1000000])\n",
      "<ipython-input-20-3f33cbf9a365>:33: UserWarning: Attempted to set non-positive bottom ylim on a log-scaled axis.\n",
      "Invalid limit will be ignored.\n",
      "  ax.set_ylim([0,1000000])\n",
      "<ipython-input-20-3f33cbf9a365>:33: UserWarning: Attempted to set non-positive bottom ylim on a log-scaled axis.\n",
      "Invalid limit will be ignored.\n",
      "  ax.set_ylim([0,1000000])\n",
      "<ipython-input-20-3f33cbf9a365>:33: UserWarning: Attempted to set non-positive bottom ylim on a log-scaled axis.\n",
      "Invalid limit will be ignored.\n",
      "  ax.set_ylim([0,1000000])\n",
      "<ipython-input-20-3f33cbf9a365>:33: UserWarning: Attempted to set non-positive bottom ylim on a log-scaled axis.\n",
      "Invalid limit will be ignored.\n",
      "  ax.set_ylim([0,1000000])\n",
      "<ipython-input-20-3f33cbf9a365>:33: UserWarning: Attempted to set non-positive bottom ylim on a log-scaled axis.\n",
      "Invalid limit will be ignored.\n",
      "  ax.set_ylim([0,1000000])\n"
     ],
     "output_type": "stream"
    },
    {
     "data": {
      "text/plain": "<Figure size 900x900 with 25 Axes>",
      "image/png": "[encoded data removed]"
     },
     "metadata": {},
     "output_type": "display_data"
    }
   ],
   "source": [
    "plt.figure(figsize=(2.5 * len(new_ec_class_name), 2.5 * len(list_domain))) #sharex=True, sharey=True)\n",
    "j = 1\n",
    "for ec_index in range(1, len(new_ec_class_name) + 2):\n",
    "    i = 0\n",
    "    for domain_index in range(len(list_domain)): #for ec_index in range(1, len(ec_class_name) + 1):\n",
    "\n",
    "        print(domain_index + j)\n",
    "\n",
    "        domain = list_domain[domain_index]\n",
    "        plt.subplot(len(new_ec_class_name), len(list_domain), domain_index + j)\n",
    "        if ec_index < 3:\n",
    "            ec_class = str(ec_index) \n",
    "            x = data[domain][ec_class]\n",
    "        if ec_index == 3:\n",
    "            ec_class1 = str(ec_index)\n",
    "            ec_class2 = str(ec_index + 1)\n",
    "            x = data[domain][ec_class1] + data[domain][ec_class2]  \n",
    "            ec_class = '3'\n",
    "        if ec_index == 4:\n",
    "            continue\n",
    "        if ec_index > 4:\n",
    "            ec_class = str(ec_index)\n",
    "            x = data[domain][ec_class]\n",
    "            ec_class = str(ec_index-1)\n",
    "\n",
    "        x = [i for i in x if i > 0]\n",
    "        lx = np.log10(x)  \n",
    "\n",
    "        plt.hist(lx, histtype='step', bins=200, fill=True, log=True, alpha=0.7, label=new_ec_class_name[ec_class], color=ncolor[new_ec_class_name[ec_class]])\n",
    "        ax = plt.gca()\n",
    "        ax.tick_params(labelsize=14)\n",
    "        ax.set_xlim([0,3.2])\n",
    "        ax.set_ylim([0,1000000])\n",
    "        plt.xticks([1, 2, 3], ['$10^{1}$', '$10^{2}$', '$10^{3}$'])\n",
    "        plt.yticks([10, 1000, 100000], ['$10^1$', '$10^3$', '$10^5$'])\n",
    "\n",
    "        if domain == archaea:\n",
    "            plt.ylabel(\"%s\\n\"%new_ec_class_name[ec_class], fontsize= 19)\n",
    "        if ec_index == 1:\n",
    "            plt.title(\"%s\\n\"%domain.name, fontsize= 19)\n",
    "        if domain == eukaryota and ec_index == 6:\n",
    "            plt.xlabel(\"Degree\", fontsize=23)\n",
    "\n",
    "        i += 1\n",
    "    j += i    \n",
    "\n",
    "plt.tight_layout()\n",
    "plt.savefig(\"../plots/PNAS/degree_distribution_HLcombined.png\", dpi = 300)\n"
   ],
   "metadata": {
    "collapsed": false,
    "pycharm": {
     "name": "#%% \n",
     "is_executing": false
    }
   }
  },
  {
   "cell_type": "code",
   "execution_count": null,
   "outputs": [],
   "source": [
    "\n"
   ],
   "metadata": {
    "collapsed": false,
    "pycharm": {
     "name": "#%%\n",
     "is_executing": false
    }
   }
  }
 ],
 "metadata": {
  "kernelspec": {
   "display_name": "Python 3",
   "language": "python",
   "name": "python3"
  },
  "language_info": {
   "codemirror_mode": {
    "name": "ipython",
    "version": 2
   },
   "file_extension": ".py",
   "mimetype": "text/x-python",
   "name": "python",
   "nbconvert_exporter": "python",
   "pygments_lexer": "ipython2",
   "version": "2.7.6"
  },
  "pycharm": {
   "stem_cell": {
    "cell_type": "raw",
    "source": [],
    "metadata": {
     "collapsed": false
    }
   }
  }
 },
 "nbformat": 4,
 "nbformat_minor": 0
}